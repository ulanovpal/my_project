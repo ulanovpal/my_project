{
 "cells": [
  {
   "cell_type": "code",
   "execution_count": 4,
   "id": "ae6caa5e-06ef-410b-b17f-44991bc60182",
   "metadata": {},
   "outputs": [],
   "source": [
    "import pandas as pd\n",
    "import pickle\n",
    "import matplotlib.pyplot as plt\n",
    "\n",
    "from sklearn.ensemble import RandomForestClassifier\n",
    "from sklearn.tree import DecisionTreeClassifier\n",
    "from sklearn.linear_model import LogisticRegression, LinearRegression\n",
    "from sklearn.metrics import accuracy_score, confusion_matrix, mean_absolute_error\n",
    "from sklearn.model_selection import train_test_split, cross_val_score, cross_validate\n",
    "from sklearn.neural_network import MLPClassifier\n",
    "from sklearn.preprocessing import OneHotEncoder, StandardScaler"
   ]
  },
  {
   "cell_type": "code",
   "execution_count": 6,
   "id": "31a18a8e-aa85-41d8-9844-8919a48244a3",
   "metadata": {},
   "outputs": [],
   "source": [
    "df = pd.read_csv('df_out.csv')"
   ]
  },
  {
   "cell_type": "markdown",
   "id": "9bee213e-620f-481e-a1e8-39c3908e4a48",
   "metadata": {
    "tags": []
   },
   "source": [
    "## Data Preparation"
   ]
  },
  {
   "cell_type": "markdown",
   "id": "e76e0cf9-3119-4b74-a504-b2f00adade26",
   "metadata": {
    "tags": []
   },
   "source": [
    "### Data Cleaning"
   ]
  },
  {
   "cell_type": "code",
   "execution_count": 8,
   "id": "1e14a098-d607-4a17-8f35-5944969ff17c",
   "metadata": {},
   "outputs": [
    {
     "name": "stdout",
     "output_type": "stream",
     "text": [
      "<class 'pandas.core.frame.DataFrame'>\n",
      "RangeIndex: 10000 entries, 0 to 9999\n",
      "Data columns (total 20 columns):\n",
      " #   Column          Non-Null Count  Dtype  \n",
      "---  ------          --------------  -----  \n",
      " 0   id              10000 non-null  int64  \n",
      " 1   url             10000 non-null  object \n",
      " 2   region          10000 non-null  object \n",
      " 3   region_url      10000 non-null  object \n",
      " 4   price           10000 non-null  int64  \n",
      " 5   year            9964 non-null   float64\n",
      " 6   manufacturer    10000 non-null  object \n",
      " 7   model           9872 non-null   object \n",
      " 8   fuel            9937 non-null   object \n",
      " 9   odometer        10000 non-null  int64  \n",
      " 10  title_status    9834 non-null   object \n",
      " 11  transmission    9955 non-null   object \n",
      " 12  image_url       9998 non-null   object \n",
      " 13  description     9998 non-null   object \n",
      " 14  state           10000 non-null  object \n",
      " 15  lat             9902 non-null   float64\n",
      " 16  long            9902 non-null   float64\n",
      " 17  posting_date    9998 non-null   object \n",
      " 18  price_category  10000 non-null  object \n",
      " 19  date            9998 non-null   object \n",
      "dtypes: float64(3), int64(3), object(14)\n",
      "memory usage: 1.5+ MB\n"
     ]
    }
   ],
   "source": [
    "df.info()"
   ]
  },
  {
   "cell_type": "markdown",
   "id": "70ea653f-f178-415d-b68e-2f05f495402e",
   "metadata": {},
   "source": [
    "### Проверка наличия дубликатов"
   ]
  },
  {
   "cell_type": "code",
   "execution_count": 9,
   "id": "6b87687e-1768-41eb-baee-ee483af8e52a",
   "metadata": {},
   "outputs": [
    {
     "data": {
      "text/plain": [
       "array([False])"
      ]
     },
     "execution_count": 9,
     "metadata": {},
     "output_type": "execute_result"
    }
   ],
   "source": [
    "df.duplicated().unique()"
   ]
  },
  {
   "cell_type": "markdown",
   "id": "91a26ea4-61af-4fcd-b6d9-416720cf46a5",
   "metadata": {},
   "source": [
    "### Заполнение пропусков"
   ]
  },
  {
   "cell_type": "code",
   "execution_count": 10,
   "id": "8ec08cf4-726a-4417-9e87-2944ffb72b91",
   "metadata": {},
   "outputs": [
    {
     "data": {
      "text/plain": [
       "title_status      1.66\n",
       "model             1.28\n",
       "long              0.98\n",
       "lat               0.98\n",
       "fuel              0.63\n",
       "transmission      0.45\n",
       "year              0.36\n",
       "posting_date      0.02\n",
       "description       0.02\n",
       "image_url         0.02\n",
       "date              0.02\n",
       "url               0.00\n",
       "odometer          0.00\n",
       "manufacturer      0.00\n",
       "state             0.00\n",
       "price             0.00\n",
       "region_url        0.00\n",
       "region            0.00\n",
       "price_category    0.00\n",
       "id                0.00\n",
       "dtype: float64"
      ]
     },
     "execution_count": 10,
     "metadata": {},
     "output_type": "execute_result"
    }
   ],
   "source": [
    "missing_values = ((df.isna().sum() / len(df)) * 100).sort_values(ascending=False)\n",
    "missing_values"
   ]
  },
  {
   "cell_type": "code",
   "execution_count": 11,
   "id": "5f036f08-25ca-4ef5-96fe-a9a0d5dfbada",
   "metadata": {},
   "outputs": [],
   "source": [
    "df = df[df.year.notna()]"
   ]
  },
  {
   "cell_type": "code",
   "execution_count": 12,
   "id": "1e665a89-70dd-4077-a76e-b81458e30695",
   "metadata": {},
   "outputs": [],
   "source": [
    "df[['model', 'fuel', 'transmission']] = df[['model', 'fuel', 'transmission']].fillna('other')"
   ]
  },
  {
   "cell_type": "code",
   "execution_count": 13,
   "id": "b521727d-76a3-4b18-9015-dad97ee45295",
   "metadata": {},
   "outputs": [],
   "source": [
    "df['title_status'] = df['title_status'].fillna(df['title_status'].mode().values[0])"
   ]
  },
  {
   "cell_type": "code",
   "execution_count": 14,
   "id": "1063a553-cd36-4d36-bdc8-5206ef721da7",
   "metadata": {},
   "outputs": [],
   "source": [
    "df = df[df.lat.notna()]"
   ]
  },
  {
   "cell_type": "code",
   "execution_count": 15,
   "id": "05fba117-7fd9-4350-9bc8-9288ef26a182",
   "metadata": {},
   "outputs": [
    {
     "data": {
      "text/plain": [
       "<bound method Series.sort_values of id                0.0\n",
       "url               0.0\n",
       "region            0.0\n",
       "region_url        0.0\n",
       "price             0.0\n",
       "year              0.0\n",
       "manufacturer      0.0\n",
       "model             0.0\n",
       "fuel              0.0\n",
       "odometer          0.0\n",
       "title_status      0.0\n",
       "transmission      0.0\n",
       "image_url         0.0\n",
       "description       0.0\n",
       "state             0.0\n",
       "lat               0.0\n",
       "long              0.0\n",
       "posting_date      0.0\n",
       "price_category    0.0\n",
       "date              0.0\n",
       "dtype: float64>"
      ]
     },
     "execution_count": 15,
     "metadata": {},
     "output_type": "execute_result"
    }
   ],
   "source": [
    "missing_values = ((df.isna().sum() / len(df)) * 100).sort_values\n",
    "missing_values"
   ]
  },
  {
   "cell_type": "markdown",
   "id": "b8aece2d-59fd-44ab-9e0a-5a0e1599ac4a",
   "metadata": {},
   "source": [
    "### Преобразование типов данных"
   ]
  },
  {
   "cell_type": "code",
   "execution_count": 11,
   "id": "b15a516b-62f3-474a-b8a7-8f296ce05e90",
   "metadata": {},
   "outputs": [],
   "source": [
    "df['year'] = df['year'].astype(int)"
   ]
  },
  {
   "cell_type": "code",
   "execution_count": 12,
   "id": "d87f4cd0-a35b-4a2c-a74e-8bb79934bff4",
   "metadata": {},
   "outputs": [],
   "source": [
    "df[['fuel', 'transmission', 'price_category']] = df[['fuel', 'transmission', 'price_category']].astype(\"category\")"
   ]
  },
  {
   "cell_type": "code",
   "execution_count": 13,
   "id": "1bf70132-2295-458b-a3d7-a1a07f6f3377",
   "metadata": {},
   "outputs": [],
   "source": [
    "df['posting_date'] = pd.to_datetime(df['posting_date'], utc=True)\n",
    "df['date'] = pd.to_datetime(df['date'], utc=True)"
   ]
  },
  {
   "cell_type": "code",
   "execution_count": 14,
   "id": "b9f97f58-06da-4945-897d-6177a513e4d8",
   "metadata": {},
   "outputs": [
    {
     "name": "stdout",
     "output_type": "stream",
     "text": [
      "<class 'pandas.core.frame.DataFrame'>\n",
      "Int64Index: 9868 entries, 0 to 9999\n",
      "Data columns (total 20 columns):\n",
      " #   Column          Non-Null Count  Dtype              \n",
      "---  ------          --------------  -----              \n",
      " 0   id              9868 non-null   int64              \n",
      " 1   url             9868 non-null   object             \n",
      " 2   region          9868 non-null   object             \n",
      " 3   region_url      9868 non-null   object             \n",
      " 4   price           9868 non-null   int64              \n",
      " 5   year            9868 non-null   int32              \n",
      " 6   manufacturer    9868 non-null   object             \n",
      " 7   model           9868 non-null   object             \n",
      " 8   fuel            9868 non-null   category           \n",
      " 9   odometer        9868 non-null   int64              \n",
      " 10  title_status    9868 non-null   object             \n",
      " 11  transmission    9868 non-null   category           \n",
      " 12  image_url       9868 non-null   object             \n",
      " 13  description     9868 non-null   object             \n",
      " 14  state           9868 non-null   object             \n",
      " 15  lat             9868 non-null   float64            \n",
      " 16  long            9868 non-null   float64            \n",
      " 17  posting_date    9868 non-null   datetime64[ns, UTC]\n",
      " 18  price_category  9868 non-null   category           \n",
      " 19  date            9868 non-null   datetime64[ns, UTC]\n",
      "dtypes: category(3), datetime64[ns, UTC](2), float64(2), int32(1), int64(3), object(9)\n",
      "memory usage: 1.3+ MB\n"
     ]
    }
   ],
   "source": [
    "df.info()"
   ]
  },
  {
   "cell_type": "markdown",
   "id": "fa0eeae7-64c4-42a5-b621-faf33e567a78",
   "metadata": {
    "tags": []
   },
   "source": [
    "## Data Visualisation"
   ]
  },
  {
   "cell_type": "markdown",
   "id": "ca70b891-35f0-4365-8dba-5bb33c38b289",
   "metadata": {},
   "source": [
    "### Поиск выбросов"
   ]
  },
  {
   "cell_type": "code",
   "execution_count": 15,
   "id": "7105b5a4-aaaf-4d11-96ed-da19adfc4fb7",
   "metadata": {},
   "outputs": [
    {
     "data": {
      "text/plain": [
       "count      9868.000\n",
       "mean      93647.193\n",
       "std       63260.140\n",
       "min           0.000\n",
       "25%       39252.500\n",
       "50%       89116.000\n",
       "75%      137198.250\n",
       "max      283466.000\n",
       "Name: odometer, dtype: object"
      ]
     },
     "execution_count": 15,
     "metadata": {},
     "output_type": "execute_result"
    }
   ],
   "source": [
    "df['odometer'].describe().apply(lambda x: f'{x:0.3f}')"
   ]
  },
  {
   "cell_type": "code",
   "execution_count": 16,
   "id": "e1bad265-2ad0-4f2f-be31-3caeac2f5ab1",
   "metadata": {},
   "outputs": [],
   "source": [
    "def calculate_outliers(data):\n",
    "    q25 = data.quantile(0.25)\n",
    "    q75 = data.quantile(0.75)\n",
    "    iqr = q75 - q25\n",
    "    boundaries = (q25 - 1.5 * iqr, q75 + 1.5 * iqr)\n",
    "\n",
    "    return boundaries"
   ]
  },
  {
   "cell_type": "code",
   "execution_count": 17,
   "id": "e4643689-7cd1-46ea-bbb2-1db0c99bc8b5",
   "metadata": {},
   "outputs": [
    {
     "data": {
      "text/plain": [
       "(-107666.125, 284116.875)"
      ]
     },
     "execution_count": 17,
     "metadata": {},
     "output_type": "execute_result"
    }
   ],
   "source": [
    "boundaries_odometer = calculate_outliers(df['odometer'])\n",
    "boundaries_odometer"
   ]
  },
  {
   "cell_type": "code",
   "execution_count": 18,
   "id": "effcb68b-ae60-4016-9be4-c6a2ea8e2711",
   "metadata": {},
   "outputs": [
    {
     "data": {
      "text/plain": [
       "0       False\n",
       "1       False\n",
       "2       False\n",
       "3       False\n",
       "4       False\n",
       "        ...  \n",
       "9995    False\n",
       "9996    False\n",
       "9997    False\n",
       "9998    False\n",
       "9999    False\n",
       "Name: odometer, Length: 9868, dtype: bool"
      ]
     },
     "execution_count": 18,
     "metadata": {},
     "output_type": "execute_result"
    }
   ],
   "source": [
    "is_outlier_odometer = (df['odometer'] < boundaries_odometer[0]) | (df['odometer'] > boundaries_odometer[1])\n",
    "is_outlier_odometer"
   ]
  },
  {
   "cell_type": "code",
   "execution_count": 19,
   "id": "eca4e823-9e21-425f-981b-970e5beafdfa",
   "metadata": {},
   "outputs": [
    {
     "data": {
      "text/plain": [
       "0"
      ]
     },
     "execution_count": 19,
     "metadata": {},
     "output_type": "execute_result"
    }
   ],
   "source": [
    "is_outlier_odometer.sum()"
   ]
  },
  {
   "cell_type": "code",
   "execution_count": 20,
   "id": "09cc9b93-922b-4857-9edc-f14967a017f7",
   "metadata": {},
   "outputs": [
    {
     "data": {
      "image/png": "[encoded data removed]",
      "text/plain": [
       "<Figure size 600x300 with 1 Axes>"
      ]
     },
     "metadata": {},
     "output_type": "display_data"
    }
   ],
   "source": [
    "plt.figure(figsize=(6,3))\n",
    "plt.boxplot(df.odometer)\n",
    "plt.xlabel('Частота')\n",
    "plt.ylabel('Колличество пройденных миль')\n",
    "plt.title('График частоты пройденных миль');"
   ]
  },
  {
   "cell_type": "markdown",
   "id": "89980f0e-5b2a-4f53-83ed-e06ee2ae504b",
   "metadata": {},
   "source": [
    "### Выбросы в столбце odometer отсутствуют"
   ]
  },
  {
   "cell_type": "code",
   "execution_count": 21,
   "id": "f2b1899f-7046-4a0f-8dc1-69180fcb4722",
   "metadata": {},
   "outputs": [
    {
     "data": {
      "text/plain": [
       "count    9868.000\n",
       "mean     2010.910\n",
       "std         9.706\n",
       "min      1915.000\n",
       "25%      2008.000\n",
       "50%      2013.000\n",
       "75%      2017.000\n",
       "max      2022.000\n",
       "Name: year, dtype: object"
      ]
     },
     "execution_count": 21,
     "metadata": {},
     "output_type": "execute_result"
    }
   ],
   "source": [
    "df['year'].describe().apply(lambda x: f'{x:0.3f}')"
   ]
  },
  {
   "cell_type": "code",
   "execution_count": 22,
   "id": "a20476e8-d4af-4729-849a-e4f8964a08b2",
   "metadata": {},
   "outputs": [
    {
     "data": {
      "text/plain": [
       "(1994.5, 2030.5)"
      ]
     },
     "execution_count": 22,
     "metadata": {},
     "output_type": "execute_result"
    }
   ],
   "source": [
    "boundaries_year = calculate_outliers(df['year'])\n",
    "boundaries_year"
   ]
  },
  {
   "cell_type": "code",
   "execution_count": 23,
   "id": "76bd5680-e549-4e4c-bfa4-e26b73181a0c",
   "metadata": {},
   "outputs": [
    {
     "data": {
      "text/plain": [
       "0       False\n",
       "1       False\n",
       "2       False\n",
       "3       False\n",
       "4       False\n",
       "        ...  \n",
       "9995    False\n",
       "9996    False\n",
       "9997    False\n",
       "9998    False\n",
       "9999    False\n",
       "Name: year, Length: 9868, dtype: bool"
      ]
     },
     "execution_count": 23,
     "metadata": {},
     "output_type": "execute_result"
    }
   ],
   "source": [
    "is_outlier_year = (df['year'] < boundaries_year[0]) | (df['year'] > boundaries_year[1])\n",
    "is_outlier_year"
   ]
  },
  {
   "cell_type": "code",
   "execution_count": 24,
   "id": "0a85f8a1-3017-446e-a79c-5420b94e8d32",
   "metadata": {},
   "outputs": [
    {
     "data": {
      "text/plain": [
       "394"
      ]
     },
     "execution_count": 24,
     "metadata": {},
     "output_type": "execute_result"
    }
   ],
   "source": [
    "is_outlier_year.sum()"
   ]
  },
  {
   "cell_type": "code",
   "execution_count": 25,
   "id": "d31f39a2-0ea8-40a4-bc4b-2363f69ee5b1",
   "metadata": {},
   "outputs": [
    {
     "data": {
      "image/png": "[encoded data removed]",
      "text/plain": [
       "<Figure size 1100x1000 with 1 Axes>"
      ]
     },
     "metadata": {},
     "output_type": "display_data"
    }
   ],
   "source": [
    "plt.figure(figsize=(11,10))\n",
    "plt.boxplot(df.year)\n",
    "plt.xlabel('Частота')\n",
    "plt.ylabel('Год выпуска')\n",
    "plt.title('График частоты года выпуска автомобиля');"
   ]
  },
  {
   "cell_type": "markdown",
   "id": "0f2429b4-b773-42e8-88a6-ef02ba1d5bbf",
   "metadata": {},
   "source": [
    "### Удалим выбросы в годе выпуска"
   ]
  },
  {
   "cell_type": "code",
   "execution_count": 26,
   "id": "e244cd73-854f-4ea3-ab13-835a1944af3f",
   "metadata": {},
   "outputs": [],
   "source": [
    "df = df[~(df['year'] < boundaries_year[0]) | (df['year'] > boundaries_year[1])]"
   ]
  },
  {
   "cell_type": "code",
   "execution_count": 28,
   "id": "b014826e-24fb-4f16-9c03-17481036c671",
   "metadata": {},
   "outputs": [
    {
     "name": "stdout",
     "output_type": "stream",
     "text": [
      "<class 'pandas.core.frame.DataFrame'>\n",
      "Int64Index: 9474 entries, 0 to 9999\n",
      "Data columns (total 20 columns):\n",
      " #   Column          Non-Null Count  Dtype              \n",
      "---  ------          --------------  -----              \n",
      " 0   id              9474 non-null   int64              \n",
      " 1   url             9474 non-null   object             \n",
      " 2   region          9474 non-null   object             \n",
      " 3   region_url      9474 non-null   object             \n",
      " 4   price           9474 non-null   int64              \n",
      " 5   year            9474 non-null   int32              \n",
      " 6   manufacturer    9474 non-null   object             \n",
      " 7   model           9474 non-null   object             \n",
      " 8   fuel            9474 non-null   category           \n",
      " 9   odometer        9474 non-null   int64              \n",
      " 10  title_status    9474 non-null   object             \n",
      " 11  transmission    9474 non-null   category           \n",
      " 12  image_url       9474 non-null   object             \n",
      " 13  description     9474 non-null   object             \n",
      " 14  state           9474 non-null   object             \n",
      " 15  lat             9474 non-null   float64            \n",
      " 16  long            9474 non-null   float64            \n",
      " 17  posting_date    9474 non-null   datetime64[ns, UTC]\n",
      " 18  price_category  9474 non-null   category           \n",
      " 19  date            9474 non-null   datetime64[ns, UTC]\n",
      "dtypes: category(3), datetime64[ns, UTC](2), float64(2), int32(1), int64(3), object(9)\n",
      "memory usage: 1.3+ MB\n"
     ]
    }
   ],
   "source": [
    "df.info()"
   ]
  },
  {
   "cell_type": "markdown",
   "id": "90177996-1963-48bb-b839-106a0adf9900",
   "metadata": {
    "tags": []
   },
   "source": [
    "## Feature enginering"
   ]
  },
  {
   "cell_type": "code",
   "execution_count": 29,
   "id": "95114e9a-a1ec-4f0d-944f-bb2ed3ae4fc9",
   "metadata": {},
   "outputs": [
    {
     "name": "stdout",
     "output_type": "stream",
     "text": [
      "<class 'pandas.core.frame.DataFrame'>\n",
      "Int64Index: 9474 entries, 0 to 9999\n",
      "Data columns (total 20 columns):\n",
      " #   Column          Non-Null Count  Dtype              \n",
      "---  ------          --------------  -----              \n",
      " 0   id              9474 non-null   int64              \n",
      " 1   url             9474 non-null   object             \n",
      " 2   region          9474 non-null   object             \n",
      " 3   region_url      9474 non-null   object             \n",
      " 4   price           9474 non-null   int64              \n",
      " 5   year            9474 non-null   int32              \n",
      " 6   manufacturer    9474 non-null   object             \n",
      " 7   model           9474 non-null   object             \n",
      " 8   fuel            9474 non-null   category           \n",
      " 9   odometer        9474 non-null   int64              \n",
      " 10  title_status    9474 non-null   object             \n",
      " 11  transmission    9474 non-null   category           \n",
      " 12  image_url       9474 non-null   object             \n",
      " 13  description     9474 non-null   object             \n",
      " 14  state           9474 non-null   object             \n",
      " 15  lat             9474 non-null   float64            \n",
      " 16  long            9474 non-null   float64            \n",
      " 17  posting_date    9474 non-null   datetime64[ns, UTC]\n",
      " 18  price_category  9474 non-null   category           \n",
      " 19  date            9474 non-null   datetime64[ns, UTC]\n",
      "dtypes: category(3), datetime64[ns, UTC](2), float64(2), int32(1), int64(3), object(9)\n",
      "memory usage: 1.3+ MB\n"
     ]
    }
   ],
   "source": [
    "df.info()"
   ]
  },
  {
   "cell_type": "markdown",
   "id": "5c539d88-e973-4ec3-a20b-c380c5ca4d23",
   "metadata": {
    "tags": []
   },
   "source": [
    "### Генерация строковых фичей"
   ]
  },
  {
   "cell_type": "code",
   "execution_count": 30,
   "id": "2328efed-d2df-4c6d-a0d6-74bb0063e1e2",
   "metadata": {},
   "outputs": [],
   "source": [
    "df['desc_len'] = df.apply(lambda x: len(x.description) , axis=1)"
   ]
  },
  {
   "cell_type": "code",
   "execution_count": 31,
   "id": "1bc129dd-5032-4cc5-b6ac-2e31019cd1ed",
   "metadata": {},
   "outputs": [],
   "source": [
    "df['short_model'] = df.apply(lambda x: x.model.split(' ')[0], axis=1)"
   ]
  },
  {
   "cell_type": "code",
   "execution_count": 32,
   "id": "61fc4a14-fa14-44b2-b9c2-dca914dba19d",
   "metadata": {},
   "outputs": [],
   "source": [
    "df['age_category'] = df.apply(lambda x: 'new' if x.year>2014 else('old' if x.year<2006 else 'average'), axis=1)"
   ]
  },
  {
   "cell_type": "code",
   "execution_count": 33,
   "id": "0355d760-c7cd-461a-bc1a-430419c7d7d6",
   "metadata": {},
   "outputs": [],
   "source": [
    "df['age_category'] = df['age_category'].astype(\"category\")"
   ]
  },
  {
   "cell_type": "code",
   "execution_count": 34,
   "id": "0fbb5be9-9930-4905-b689-123f92d00629",
   "metadata": {},
   "outputs": [],
   "source": [
    "df['diff_years'] = df.apply(lambda x: x.date.year - x.year, axis=1)"
   ]
  },
  {
   "cell_type": "code",
   "execution_count": 35,
   "id": "b1f8ad7e-364e-4027-9d61-034514e15351",
   "metadata": {},
   "outputs": [
    {
     "name": "stdout",
     "output_type": "stream",
     "text": [
      "<class 'pandas.core.frame.DataFrame'>\n",
      "Int64Index: 9474 entries, 0 to 9999\n",
      "Data columns (total 24 columns):\n",
      " #   Column          Non-Null Count  Dtype              \n",
      "---  ------          --------------  -----              \n",
      " 0   id              9474 non-null   int64              \n",
      " 1   url             9474 non-null   object             \n",
      " 2   region          9474 non-null   object             \n",
      " 3   region_url      9474 non-null   object             \n",
      " 4   price           9474 non-null   int64              \n",
      " 5   year            9474 non-null   int32              \n",
      " 6   manufacturer    9474 non-null   object             \n",
      " 7   model           9474 non-null   object             \n",
      " 8   fuel            9474 non-null   category           \n",
      " 9   odometer        9474 non-null   int64              \n",
      " 10  title_status    9474 non-null   object             \n",
      " 11  transmission    9474 non-null   category           \n",
      " 12  image_url       9474 non-null   object             \n",
      " 13  description     9474 non-null   object             \n",
      " 14  state           9474 non-null   object             \n",
      " 15  lat             9474 non-null   float64            \n",
      " 16  long            9474 non-null   float64            \n",
      " 17  posting_date    9474 non-null   datetime64[ns, UTC]\n",
      " 18  price_category  9474 non-null   category           \n",
      " 19  date            9474 non-null   datetime64[ns, UTC]\n",
      " 20  desc_len        9474 non-null   int64              \n",
      " 21  short_model     9474 non-null   object             \n",
      " 22  age_category    9474 non-null   category           \n",
      " 23  diff_years      9474 non-null   int64              \n",
      "dtypes: category(4), datetime64[ns, UTC](2), float64(2), int32(1), int64(5), object(10)\n",
      "memory usage: 1.5+ MB\n"
     ]
    }
   ],
   "source": [
    "df.info()"
   ]
  },
  {
   "cell_type": "markdown",
   "id": "2c403af6-cf19-4d99-bd68-2bc1094acce2",
   "metadata": {
    "tags": []
   },
   "source": [
    "### Преобразование категориальных данных"
   ]
  },
  {
   "cell_type": "code",
   "execution_count": 36,
   "id": "56c2d0b5-cc23-4ac4-acbe-59d91e52c26a",
   "metadata": {},
   "outputs": [],
   "source": [
    "category_var = df[['fuel', 'transmission', 'region', 'manufacturer', 'state', 'title_status', 'short_model', 'age_category']]"
   ]
  },
  {
   "cell_type": "code",
   "execution_count": 37,
   "id": "f7ca75b8-55db-4efd-8320-1774a977d759",
   "metadata": {},
   "outputs": [],
   "source": [
    "ohe = OneHotEncoder(sparse=False)"
   ]
  },
  {
   "cell_type": "code",
   "execution_count": 38,
   "id": "ee0d8766-3ba6-468c-a470-c455df1660ea",
   "metadata": {},
   "outputs": [
    {
     "name": "stderr",
     "output_type": "stream",
     "text": [
      "C:\\Users\\Pavel\\anaconda3\\lib\\site-packages\\sklearn\\preprocessing\\_encoders.py:828: FutureWarning: `sparse` was renamed to `sparse_output` in version 1.2 and will be removed in 1.4. `sparse_output` is ignored unless you leave `sparse` to its default value.\n",
      "  warnings.warn(\n"
     ]
    },
    {
     "data": {
      "text/html": [
       "<style>#sk-container-id-1 {color: black;background-color: white;}#sk-container-id-1 pre{padding: 0;}#sk-container-id-1 div.sk-toggleable {background-color: white;}#sk-container-id-1 label.sk-toggleable__label {cursor: pointer;display: block;width: 100%;margin-bottom: 0;padding: 0.3em;box-sizing: border-box;text-align: center;}#sk-container-id-1 label.sk-toggleable__label-arrow:before {content: \"▸\";float: left;margin-right: 0.25em;color: #696969;}#sk-container-id-1 label.sk-toggleable__label-arrow:hover:before {color: black;}#sk-container-id-1 div.sk-estimator:hover label.sk-toggleable__label-arrow:before {color: black;}#sk-container-id-1 div.sk-toggleable__content {max-height: 0;max-width: 0;overflow: hidden;text-align: left;background-color: #f0f8ff;}#sk-container-id-1 div.sk-toggleable__content pre {margin: 0.2em;color: black;border-radius: 0.25em;background-color: #f0f8ff;}#sk-container-id-1 input.sk-toggleable__control:checked~div.sk-toggleable__content {max-height: 200px;max-width: 100%;overflow: auto;}#sk-container-id-1 input.sk-toggleable__control:checked~label.sk-toggleable__label-arrow:before {content: \"▾\";}#sk-container-id-1 div.sk-estimator input.sk-toggleable__control:checked~label.sk-toggleable__label {background-color: #d4ebff;}#sk-container-id-1 div.sk-label input.sk-toggleable__control:checked~label.sk-toggleable__label {background-color: #d4ebff;}#sk-container-id-1 input.sk-hidden--visually {border: 0;clip: rect(1px 1px 1px 1px);clip: rect(1px, 1px, 1px, 1px);height: 1px;margin: -1px;overflow: hidden;padding: 0;position: absolute;width: 1px;}#sk-container-id-1 div.sk-estimator {font-family: monospace;background-color: #f0f8ff;border: 1px dotted black;border-radius: 0.25em;box-sizing: border-box;margin-bottom: 0.5em;}#sk-container-id-1 div.sk-estimator:hover {background-color: #d4ebff;}#sk-container-id-1 div.sk-parallel-item::after {content: \"\";width: 100%;border-bottom: 1px solid gray;flex-grow: 1;}#sk-container-id-1 div.sk-label:hover label.sk-toggleable__label {background-color: #d4ebff;}#sk-container-id-1 div.sk-serial::before {content: \"\";position: absolute;border-left: 1px solid gray;box-sizing: border-box;top: 0;bottom: 0;left: 50%;z-index: 0;}#sk-container-id-1 div.sk-serial {display: flex;flex-direction: column;align-items: center;background-color: white;padding-right: 0.2em;padding-left: 0.2em;position: relative;}#sk-container-id-1 div.sk-item {position: relative;z-index: 1;}#sk-container-id-1 div.sk-parallel {display: flex;align-items: stretch;justify-content: center;background-color: white;position: relative;}#sk-container-id-1 div.sk-item::before, #sk-container-id-1 div.sk-parallel-item::before {content: \"\";position: absolute;border-left: 1px solid gray;box-sizing: border-box;top: 0;bottom: 0;left: 50%;z-index: -1;}#sk-container-id-1 div.sk-parallel-item {display: flex;flex-direction: column;z-index: 1;position: relative;background-color: white;}#sk-container-id-1 div.sk-parallel-item:first-child::after {align-self: flex-end;width: 50%;}#sk-container-id-1 div.sk-parallel-item:last-child::after {align-self: flex-start;width: 50%;}#sk-container-id-1 div.sk-parallel-item:only-child::after {width: 0;}#sk-container-id-1 div.sk-dashed-wrapped {border: 1px dashed gray;margin: 0 0.4em 0.5em 0.4em;box-sizing: border-box;padding-bottom: 0.4em;background-color: white;}#sk-container-id-1 div.sk-label label {font-family: monospace;font-weight: bold;display: inline-block;line-height: 1.2em;}#sk-container-id-1 div.sk-label-container {text-align: center;}#sk-container-id-1 div.sk-container {/* jupyter's `normalize.less` sets `[hidden] { display: none; }` but bootstrap.min.css set `[hidden] { display: none !important; }` so we also need the `!important` here to be able to override the default hidden behavior on the sphinx rendered scikit-learn.org. See: https://github.com/scikit-learn/scikit-learn/issues/21755 */display: inline-block !important;position: relative;}#sk-container-id-1 div.sk-text-repr-fallback {display: none;}</style><div id=\"sk-container-id-1\" class=\"sk-top-container\"><div class=\"sk-text-repr-fallback\"><pre>OneHotEncoder(sparse=False, sparse_output=False)</pre><b>In a Jupyter environment, please rerun this cell to show the HTML representation or trust the notebook. <br />On GitHub, the HTML representation is unable to render, please try loading this page with nbviewer.org.</b></div><div class=\"sk-container\" hidden><div class=\"sk-item\"><div class=\"sk-estimator sk-toggleable\"><input class=\"sk-toggleable__control sk-hidden--visually\" id=\"sk-estimator-id-1\" type=\"checkbox\" checked><label for=\"sk-estimator-id-1\" class=\"sk-toggleable__label sk-toggleable__label-arrow\">OneHotEncoder</label><div class=\"sk-toggleable__content\"><pre>OneHotEncoder(sparse=False, sparse_output=False)</pre></div></div></div></div></div>"
      ],
      "text/plain": [
       "OneHotEncoder(sparse=False, sparse_output=False)"
      ]
     },
     "execution_count": 38,
     "metadata": {},
     "output_type": "execute_result"
    }
   ],
   "source": [
    "ohe.fit(category_var)"
   ]
  },
  {
   "cell_type": "code",
   "execution_count": 39,
   "id": "3ee68d50-867f-44f0-967e-9482e3fa63d5",
   "metadata": {},
   "outputs": [],
   "source": [
    "ohe_cat_var = ohe.transform(category_var)"
   ]
  },
  {
   "cell_type": "code",
   "execution_count": null,
   "id": "decb4a4f-d540-4565-8c7b-a1ada07c5cea",
   "metadata": {},
   "outputs": [],
   "source": [
    "df[ohe.get_feature_names_out()] = ohe_cat_var"
   ]
  },
  {
   "cell_type": "markdown",
   "id": "b4659eb7-d216-43e5-8686-15c267b76156",
   "metadata": {
    "tags": []
   },
   "source": [
    "### Стандартизация данных"
   ]
  },
  {
   "cell_type": "code",
   "execution_count": 41,
   "id": "db316e7d-a4f4-4406-8935-f95379257ee7",
   "metadata": {},
   "outputs": [],
   "source": [
    "std_data = df[['lat', 'long', 'year', 'desc_len', 'odometer', 'diff_years']]"
   ]
  },
  {
   "cell_type": "code",
   "execution_count": 42,
   "id": "5f6f1071-5f9f-44bd-bfea-8e9ab4e9403d",
   "metadata": {},
   "outputs": [
    {
     "data": {
      "text/html": [
       "<style>#sk-container-id-2 {color: black;background-color: white;}#sk-container-id-2 pre{padding: 0;}#sk-container-id-2 div.sk-toggleable {background-color: white;}#sk-container-id-2 label.sk-toggleable__label {cursor: pointer;display: block;width: 100%;margin-bottom: 0;padding: 0.3em;box-sizing: border-box;text-align: center;}#sk-container-id-2 label.sk-toggleable__label-arrow:before {content: \"▸\";float: left;margin-right: 0.25em;color: #696969;}#sk-container-id-2 label.sk-toggleable__label-arrow:hover:before {color: black;}#sk-container-id-2 div.sk-estimator:hover label.sk-toggleable__label-arrow:before {color: black;}#sk-container-id-2 div.sk-toggleable__content {max-height: 0;max-width: 0;overflow: hidden;text-align: left;background-color: #f0f8ff;}#sk-container-id-2 div.sk-toggleable__content pre {margin: 0.2em;color: black;border-radius: 0.25em;background-color: #f0f8ff;}#sk-container-id-2 input.sk-toggleable__control:checked~div.sk-toggleable__content {max-height: 200px;max-width: 100%;overflow: auto;}#sk-container-id-2 input.sk-toggleable__control:checked~label.sk-toggleable__label-arrow:before {content: \"▾\";}#sk-container-id-2 div.sk-estimator input.sk-toggleable__control:checked~label.sk-toggleable__label {background-color: #d4ebff;}#sk-container-id-2 div.sk-label input.sk-toggleable__control:checked~label.sk-toggleable__label {background-color: #d4ebff;}#sk-container-id-2 input.sk-hidden--visually {border: 0;clip: rect(1px 1px 1px 1px);clip: rect(1px, 1px, 1px, 1px);height: 1px;margin: -1px;overflow: hidden;padding: 0;position: absolute;width: 1px;}#sk-container-id-2 div.sk-estimator {font-family: monospace;background-color: #f0f8ff;border: 1px dotted black;border-radius: 0.25em;box-sizing: border-box;margin-bottom: 0.5em;}#sk-container-id-2 div.sk-estimator:hover {background-color: #d4ebff;}#sk-container-id-2 div.sk-parallel-item::after {content: \"\";width: 100%;border-bottom: 1px solid gray;flex-grow: 1;}#sk-container-id-2 div.sk-label:hover label.sk-toggleable__label {background-color: #d4ebff;}#sk-container-id-2 div.sk-serial::before {content: \"\";position: absolute;border-left: 1px solid gray;box-sizing: border-box;top: 0;bottom: 0;left: 50%;z-index: 0;}#sk-container-id-2 div.sk-serial {display: flex;flex-direction: column;align-items: center;background-color: white;padding-right: 0.2em;padding-left: 0.2em;position: relative;}#sk-container-id-2 div.sk-item {position: relative;z-index: 1;}#sk-container-id-2 div.sk-parallel {display: flex;align-items: stretch;justify-content: center;background-color: white;position: relative;}#sk-container-id-2 div.sk-item::before, #sk-container-id-2 div.sk-parallel-item::before {content: \"\";position: absolute;border-left: 1px solid gray;box-sizing: border-box;top: 0;bottom: 0;left: 50%;z-index: -1;}#sk-container-id-2 div.sk-parallel-item {display: flex;flex-direction: column;z-index: 1;position: relative;background-color: white;}#sk-container-id-2 div.sk-parallel-item:first-child::after {align-self: flex-end;width: 50%;}#sk-container-id-2 div.sk-parallel-item:last-child::after {align-self: flex-start;width: 50%;}#sk-container-id-2 div.sk-parallel-item:only-child::after {width: 0;}#sk-container-id-2 div.sk-dashed-wrapped {border: 1px dashed gray;margin: 0 0.4em 0.5em 0.4em;box-sizing: border-box;padding-bottom: 0.4em;background-color: white;}#sk-container-id-2 div.sk-label label {font-family: monospace;font-weight: bold;display: inline-block;line-height: 1.2em;}#sk-container-id-2 div.sk-label-container {text-align: center;}#sk-container-id-2 div.sk-container {/* jupyter's `normalize.less` sets `[hidden] { display: none; }` but bootstrap.min.css set `[hidden] { display: none !important; }` so we also need the `!important` here to be able to override the default hidden behavior on the sphinx rendered scikit-learn.org. See: https://github.com/scikit-learn/scikit-learn/issues/21755 */display: inline-block !important;position: relative;}#sk-container-id-2 div.sk-text-repr-fallback {display: none;}</style><div id=\"sk-container-id-2\" class=\"sk-top-container\"><div class=\"sk-text-repr-fallback\"><pre>StandardScaler()</pre><b>In a Jupyter environment, please rerun this cell to show the HTML representation or trust the notebook. <br />On GitHub, the HTML representation is unable to render, please try loading this page with nbviewer.org.</b></div><div class=\"sk-container\" hidden><div class=\"sk-item\"><div class=\"sk-estimator sk-toggleable\"><input class=\"sk-toggleable__control sk-hidden--visually\" id=\"sk-estimator-id-2\" type=\"checkbox\" checked><label for=\"sk-estimator-id-2\" class=\"sk-toggleable__label sk-toggleable__label-arrow\">StandardScaler</label><div class=\"sk-toggleable__content\"><pre>StandardScaler()</pre></div></div></div></div></div>"
      ],
      "text/plain": [
       "StandardScaler()"
      ]
     },
     "execution_count": 42,
     "metadata": {},
     "output_type": "execute_result"
    }
   ],
   "source": [
    "std_scaler = StandardScaler()\n",
    "std_scaler"
   ]
  },
  {
   "cell_type": "code",
   "execution_count": 43,
   "id": "8472e25b-e218-4a09-973f-8027d7c3f05a",
   "metadata": {},
   "outputs": [
    {
     "data": {
      "text/html": [
       "<style>#sk-container-id-3 {color: black;background-color: white;}#sk-container-id-3 pre{padding: 0;}#sk-container-id-3 div.sk-toggleable {background-color: white;}#sk-container-id-3 label.sk-toggleable__label {cursor: pointer;display: block;width: 100%;margin-bottom: 0;padding: 0.3em;box-sizing: border-box;text-align: center;}#sk-container-id-3 label.sk-toggleable__label-arrow:before {content: \"▸\";float: left;margin-right: 0.25em;color: #696969;}#sk-container-id-3 label.sk-toggleable__label-arrow:hover:before {color: black;}#sk-container-id-3 div.sk-estimator:hover label.sk-toggleable__label-arrow:before {color: black;}#sk-container-id-3 div.sk-toggleable__content {max-height: 0;max-width: 0;overflow: hidden;text-align: left;background-color: #f0f8ff;}#sk-container-id-3 div.sk-toggleable__content pre {margin: 0.2em;color: black;border-radius: 0.25em;background-color: #f0f8ff;}#sk-container-id-3 input.sk-toggleable__control:checked~div.sk-toggleable__content {max-height: 200px;max-width: 100%;overflow: auto;}#sk-container-id-3 input.sk-toggleable__control:checked~label.sk-toggleable__label-arrow:before {content: \"▾\";}#sk-container-id-3 div.sk-estimator input.sk-toggleable__control:checked~label.sk-toggleable__label {background-color: #d4ebff;}#sk-container-id-3 div.sk-label input.sk-toggleable__control:checked~label.sk-toggleable__label {background-color: #d4ebff;}#sk-container-id-3 input.sk-hidden--visually {border: 0;clip: rect(1px 1px 1px 1px);clip: rect(1px, 1px, 1px, 1px);height: 1px;margin: -1px;overflow: hidden;padding: 0;position: absolute;width: 1px;}#sk-container-id-3 div.sk-estimator {font-family: monospace;background-color: #f0f8ff;border: 1px dotted black;border-radius: 0.25em;box-sizing: border-box;margin-bottom: 0.5em;}#sk-container-id-3 div.sk-estimator:hover {background-color: #d4ebff;}#sk-container-id-3 div.sk-parallel-item::after {content: \"\";width: 100%;border-bottom: 1px solid gray;flex-grow: 1;}#sk-container-id-3 div.sk-label:hover label.sk-toggleable__label {background-color: #d4ebff;}#sk-container-id-3 div.sk-serial::before {content: \"\";position: absolute;border-left: 1px solid gray;box-sizing: border-box;top: 0;bottom: 0;left: 50%;z-index: 0;}#sk-container-id-3 div.sk-serial {display: flex;flex-direction: column;align-items: center;background-color: white;padding-right: 0.2em;padding-left: 0.2em;position: relative;}#sk-container-id-3 div.sk-item {position: relative;z-index: 1;}#sk-container-id-3 div.sk-parallel {display: flex;align-items: stretch;justify-content: center;background-color: white;position: relative;}#sk-container-id-3 div.sk-item::before, #sk-container-id-3 div.sk-parallel-item::before {content: \"\";position: absolute;border-left: 1px solid gray;box-sizing: border-box;top: 0;bottom: 0;left: 50%;z-index: -1;}#sk-container-id-3 div.sk-parallel-item {display: flex;flex-direction: column;z-index: 1;position: relative;background-color: white;}#sk-container-id-3 div.sk-parallel-item:first-child::after {align-self: flex-end;width: 50%;}#sk-container-id-3 div.sk-parallel-item:last-child::after {align-self: flex-start;width: 50%;}#sk-container-id-3 div.sk-parallel-item:only-child::after {width: 0;}#sk-container-id-3 div.sk-dashed-wrapped {border: 1px dashed gray;margin: 0 0.4em 0.5em 0.4em;box-sizing: border-box;padding-bottom: 0.4em;background-color: white;}#sk-container-id-3 div.sk-label label {font-family: monospace;font-weight: bold;display: inline-block;line-height: 1.2em;}#sk-container-id-3 div.sk-label-container {text-align: center;}#sk-container-id-3 div.sk-container {/* jupyter's `normalize.less` sets `[hidden] { display: none; }` but bootstrap.min.css set `[hidden] { display: none !important; }` so we also need the `!important` here to be able to override the default hidden behavior on the sphinx rendered scikit-learn.org. See: https://github.com/scikit-learn/scikit-learn/issues/21755 */display: inline-block !important;position: relative;}#sk-container-id-3 div.sk-text-repr-fallback {display: none;}</style><div id=\"sk-container-id-3\" class=\"sk-top-container\"><div class=\"sk-text-repr-fallback\"><pre>StandardScaler()</pre><b>In a Jupyter environment, please rerun this cell to show the HTML representation or trust the notebook. <br />On GitHub, the HTML representation is unable to render, please try loading this page with nbviewer.org.</b></div><div class=\"sk-container\" hidden><div class=\"sk-item\"><div class=\"sk-estimator sk-toggleable\"><input class=\"sk-toggleable__control sk-hidden--visually\" id=\"sk-estimator-id-3\" type=\"checkbox\" checked><label for=\"sk-estimator-id-3\" class=\"sk-toggleable__label sk-toggleable__label-arrow\">StandardScaler</label><div class=\"sk-toggleable__content\"><pre>StandardScaler()</pre></div></div></div></div></div>"
      ],
      "text/plain": [
       "StandardScaler()"
      ]
     },
     "execution_count": 43,
     "metadata": {},
     "output_type": "execute_result"
    }
   ],
   "source": [
    "std_scaler.fit(std_data)"
   ]
  },
  {
   "cell_type": "code",
   "execution_count": 44,
   "id": "9a775d2c-b5d9-4b59-aa4e-0337ac890270",
   "metadata": {},
   "outputs": [
    {
     "data": {
      "text/plain": [
       "array([[-0.60423595,  0.48442278,  1.36815251,  0.58318934, -1.05783949,\n",
       "        -1.36815251],\n",
       "       [ 0.38213527,  1.10268853,  0.64875764, -0.67774721, -0.54205115,\n",
       "        -0.64875764],\n",
       "       [-0.82349545,  0.53074221,  0.82860636,  0.51285822, -1.2698793 ,\n",
       "        -0.82860636],\n",
       "       ...,\n",
       "       [ 1.08472223, -1.60073898, -0.25048594, -0.69891831,  0.88528357,\n",
       "         0.25048594],\n",
       "       [ 0.76008367,  0.25521009,  0.46890892,  0.28248791, -0.51165572,\n",
       "        -0.46890892],\n",
       "       [-0.32861787,  0.97901159,  0.82860636,  0.58354817, -0.92360882,\n",
       "        -0.82860636]])"
      ]
     },
     "execution_count": 44,
     "metadata": {},
     "output_type": "execute_result"
    }
   ],
   "source": [
    "std_scaler_var = std_scaler.transform(std_data)\n",
    "std_scaler_var"
   ]
  },
  {
   "cell_type": "code",
   "execution_count": 45,
   "id": "84f9978c-8cd9-40db-b0a2-5ba39031fa14",
   "metadata": {},
   "outputs": [],
   "source": [
    "std_scaler.feature_names_in_ = ['lat_std', 'long_std', 'year_std', 'desc_len_std', 'odometer_std', 'diff_years_std']"
   ]
  },
  {
   "cell_type": "code",
   "execution_count": 46,
   "id": "bbca9707-206b-46b7-b94b-c7113b827621",
   "metadata": {},
   "outputs": [],
   "source": [
    "df[std_scaler.get_feature_names_out()] = std_scaler_var"
   ]
  },
  {
   "cell_type": "code",
   "execution_count": 47,
   "id": "a2ed5451-5d79-40a3-98c5-32bc45c12305",
   "metadata": {},
   "outputs": [
    {
     "name": "stdout",
     "output_type": "stream",
     "text": [
      "<class 'pandas.core.frame.DataFrame'>\n",
      "Int64Index: 9474 entries, 0 to 9999\n",
      "Columns: 1367 entries, id to diff_years_std\n",
      "dtypes: category(4), datetime64[ns, UTC](2), float64(1345), int32(1), int64(5), object(10)\n",
      "memory usage: 98.6+ MB\n"
     ]
    }
   ],
   "source": [
    "df.info()"
   ]
  },
  {
   "cell_type": "markdown",
   "id": "72b65b6d-aa2f-4390-be88-91e5886d0327",
   "metadata": {
    "tags": []
   },
   "source": [
    "### Удаление фичей не нужных для моделирования"
   ]
  },
  {
   "cell_type": "code",
   "execution_count": 48,
   "id": "c57ef234-ff15-4e15-a0f0-613f3a6f1ee7",
   "metadata": {},
   "outputs": [],
   "source": [
    "df = df.drop(['id','url', 'year', 'region', 'region_url', 'manufacturer',  'state',\n",
    "                    'model', 'fuel', 'odometer', 'title_status', 'transmission',\n",
    "                    'image_url', 'description', 'lat', 'long', 'posting_date',\n",
    "              'date', 'short_model', 'desc_len', 'diff_years', 'age_category'], axis=1)"
   ]
  },
  {
   "cell_type": "code",
   "execution_count": 49,
   "id": "54416205-0e33-4676-811f-22a915af3f8f",
   "metadata": {},
   "outputs": [],
   "source": [
    "df.to_csv('vehicles_dataset_prepared_my.csv', index=False)"
   ]
  },
  {
   "cell_type": "markdown",
   "id": "4cac2e4f-cdab-4ff9-87f8-1fbf815c7755",
   "metadata": {
    "tags": []
   },
   "source": [
    "## Modeling"
   ]
  },
  {
   "cell_type": "code",
   "execution_count": 50,
   "id": "7ff2cada-3887-4aa9-80eb-646693315892",
   "metadata": {},
   "outputs": [],
   "source": [
    "df_prepared = pd.read_csv('vehicles_dataset_prepared_my.csv')"
   ]
  },
  {
   "cell_type": "code",
   "execution_count": 51,
   "id": "e589ab6a-036f-4a36-9c0c-2cc8993ab16b",
   "metadata": {},
   "outputs": [],
   "source": [
    "x = df_prepared.drop(['price_category', 'price'], axis=1)\n",
    "y = df_prepared['price_category']"
   ]
  },
  {
   "cell_type": "code",
   "execution_count": 52,
   "id": "c7e2ec03-1117-488e-8cd3-115a0eb71109",
   "metadata": {},
   "outputs": [],
   "source": [
    "x_train, x_test, y_train, y_test = train_test_split(x, y, test_size=0.3)"
   ]
  },
  {
   "cell_type": "markdown",
   "id": "f40ab777-f3ec-4cc5-a000-8c369bdd5d57",
   "metadata": {
    "tags": []
   },
   "source": [
    "### Модель Случайного леса"
   ]
  },
  {
   "cell_type": "code",
   "execution_count": 53,
   "id": "2a8ef08a-27b0-4341-a82a-b03ca639be1d",
   "metadata": {},
   "outputs": [
    {
     "data": {
      "text/html": [
       "<style>#sk-container-id-4 {color: black;background-color: white;}#sk-container-id-4 pre{padding: 0;}#sk-container-id-4 div.sk-toggleable {background-color: white;}#sk-container-id-4 label.sk-toggleable__label {cursor: pointer;display: block;width: 100%;margin-bottom: 0;padding: 0.3em;box-sizing: border-box;text-align: center;}#sk-container-id-4 label.sk-toggleable__label-arrow:before {content: \"▸\";float: left;margin-right: 0.25em;color: #696969;}#sk-container-id-4 label.sk-toggleable__label-arrow:hover:before {color: black;}#sk-container-id-4 div.sk-estimator:hover label.sk-toggleable__label-arrow:before {color: black;}#sk-container-id-4 div.sk-toggleable__content {max-height: 0;max-width: 0;overflow: hidden;text-align: left;background-color: #f0f8ff;}#sk-container-id-4 div.sk-toggleable__content pre {margin: 0.2em;color: black;border-radius: 0.25em;background-color: #f0f8ff;}#sk-container-id-4 input.sk-toggleable__control:checked~div.sk-toggleable__content {max-height: 200px;max-width: 100%;overflow: auto;}#sk-container-id-4 input.sk-toggleable__control:checked~label.sk-toggleable__label-arrow:before {content: \"▾\";}#sk-container-id-4 div.sk-estimator input.sk-toggleable__control:checked~label.sk-toggleable__label {background-color: #d4ebff;}#sk-container-id-4 div.sk-label input.sk-toggleable__control:checked~label.sk-toggleable__label {background-color: #d4ebff;}#sk-container-id-4 input.sk-hidden--visually {border: 0;clip: rect(1px 1px 1px 1px);clip: rect(1px, 1px, 1px, 1px);height: 1px;margin: -1px;overflow: hidden;padding: 0;position: absolute;width: 1px;}#sk-container-id-4 div.sk-estimator {font-family: monospace;background-color: #f0f8ff;border: 1px dotted black;border-radius: 0.25em;box-sizing: border-box;margin-bottom: 0.5em;}#sk-container-id-4 div.sk-estimator:hover {background-color: #d4ebff;}#sk-container-id-4 div.sk-parallel-item::after {content: \"\";width: 100%;border-bottom: 1px solid gray;flex-grow: 1;}#sk-container-id-4 div.sk-label:hover label.sk-toggleable__label {background-color: #d4ebff;}#sk-container-id-4 div.sk-serial::before {content: \"\";position: absolute;border-left: 1px solid gray;box-sizing: border-box;top: 0;bottom: 0;left: 50%;z-index: 0;}#sk-container-id-4 div.sk-serial {display: flex;flex-direction: column;align-items: center;background-color: white;padding-right: 0.2em;padding-left: 0.2em;position: relative;}#sk-container-id-4 div.sk-item {position: relative;z-index: 1;}#sk-container-id-4 div.sk-parallel {display: flex;align-items: stretch;justify-content: center;background-color: white;position: relative;}#sk-container-id-4 div.sk-item::before, #sk-container-id-4 div.sk-parallel-item::before {content: \"\";position: absolute;border-left: 1px solid gray;box-sizing: border-box;top: 0;bottom: 0;left: 50%;z-index: -1;}#sk-container-id-4 div.sk-parallel-item {display: flex;flex-direction: column;z-index: 1;position: relative;background-color: white;}#sk-container-id-4 div.sk-parallel-item:first-child::after {align-self: flex-end;width: 50%;}#sk-container-id-4 div.sk-parallel-item:last-child::after {align-self: flex-start;width: 50%;}#sk-container-id-4 div.sk-parallel-item:only-child::after {width: 0;}#sk-container-id-4 div.sk-dashed-wrapped {border: 1px dashed gray;margin: 0 0.4em 0.5em 0.4em;box-sizing: border-box;padding-bottom: 0.4em;background-color: white;}#sk-container-id-4 div.sk-label label {font-family: monospace;font-weight: bold;display: inline-block;line-height: 1.2em;}#sk-container-id-4 div.sk-label-container {text-align: center;}#sk-container-id-4 div.sk-container {/* jupyter's `normalize.less` sets `[hidden] { display: none; }` but bootstrap.min.css set `[hidden] { display: none !important; }` so we also need the `!important` here to be able to override the default hidden behavior on the sphinx rendered scikit-learn.org. See: https://github.com/scikit-learn/scikit-learn/issues/21755 */display: inline-block !important;position: relative;}#sk-container-id-4 div.sk-text-repr-fallback {display: none;}</style><div id=\"sk-container-id-4\" class=\"sk-top-container\"><div class=\"sk-text-repr-fallback\"><pre>RandomForestClassifier(n_estimators=250)</pre><b>In a Jupyter environment, please rerun this cell to show the HTML representation or trust the notebook. <br />On GitHub, the HTML representation is unable to render, please try loading this page with nbviewer.org.</b></div><div class=\"sk-container\" hidden><div class=\"sk-item\"><div class=\"sk-estimator sk-toggleable\"><input class=\"sk-toggleable__control sk-hidden--visually\" id=\"sk-estimator-id-4\" type=\"checkbox\" checked><label for=\"sk-estimator-id-4\" class=\"sk-toggleable__label sk-toggleable__label-arrow\">RandomForestClassifier</label><div class=\"sk-toggleable__content\"><pre>RandomForestClassifier(n_estimators=250)</pre></div></div></div></div></div>"
      ],
      "text/plain": [
       "RandomForestClassifier(n_estimators=250)"
      ]
     },
     "execution_count": 53,
     "metadata": {},
     "output_type": "execute_result"
    }
   ],
   "source": [
    "rf_clf = RandomForestClassifier(n_estimators=250, bootstrap=True)\n",
    "rf_clf.fit(x_train, y_train)"
   ]
  },
  {
   "cell_type": "code",
   "execution_count": 54,
   "id": "fc27ac3e-d796-4feb-8f69-e4db01bc683b",
   "metadata": {},
   "outputs": [],
   "source": [
    "predict_train_rf = rf_clf.predict(x_train)\n",
    "predict_test_rf = rf_clf.predict(x_test)"
   ]
  },
  {
   "cell_type": "code",
   "execution_count": 55,
   "id": "4e6093fb-e8d2-4f23-b6a4-d93e81bbef02",
   "metadata": {},
   "outputs": [
    {
     "name": "stdout",
     "output_type": "stream",
     "text": [
      "1.0\n",
      "0.7903622933520928\n",
      "[[871  13 107]\n",
      " [ 23 777 112]\n",
      " [169 172 599]]\n"
     ]
    }
   ],
   "source": [
    "print(accuracy_score(y_train, predict_train_rf))\n",
    "print(accuracy_score(y_test, predict_test_rf))\n",
    "print(confusion_matrix(y_test, predict_test_rf))"
   ]
  },
  {
   "cell_type": "markdown",
   "id": "57b58e82-e123-458d-8fc1-cda095d9612b",
   "metadata": {
    "tags": []
   },
   "source": [
    "### Модель Логистической регрессии"
   ]
  },
  {
   "cell_type": "code",
   "execution_count": 56,
   "id": "a5c8d4c3-5862-4816-afa6-67afea679b26",
   "metadata": {},
   "outputs": [
    {
     "data": {
      "text/html": [
       "<style>#sk-container-id-5 {color: black;background-color: white;}#sk-container-id-5 pre{padding: 0;}#sk-container-id-5 div.sk-toggleable {background-color: white;}#sk-container-id-5 label.sk-toggleable__label {cursor: pointer;display: block;width: 100%;margin-bottom: 0;padding: 0.3em;box-sizing: border-box;text-align: center;}#sk-container-id-5 label.sk-toggleable__label-arrow:before {content: \"▸\";float: left;margin-right: 0.25em;color: #696969;}#sk-container-id-5 label.sk-toggleable__label-arrow:hover:before {color: black;}#sk-container-id-5 div.sk-estimator:hover label.sk-toggleable__label-arrow:before {color: black;}#sk-container-id-5 div.sk-toggleable__content {max-height: 0;max-width: 0;overflow: hidden;text-align: left;background-color: #f0f8ff;}#sk-container-id-5 div.sk-toggleable__content pre {margin: 0.2em;color: black;border-radius: 0.25em;background-color: #f0f8ff;}#sk-container-id-5 input.sk-toggleable__control:checked~div.sk-toggleable__content {max-height: 200px;max-width: 100%;overflow: auto;}#sk-container-id-5 input.sk-toggleable__control:checked~label.sk-toggleable__label-arrow:before {content: \"▾\";}#sk-container-id-5 div.sk-estimator input.sk-toggleable__control:checked~label.sk-toggleable__label {background-color: #d4ebff;}#sk-container-id-5 div.sk-label input.sk-toggleable__control:checked~label.sk-toggleable__label {background-color: #d4ebff;}#sk-container-id-5 input.sk-hidden--visually {border: 0;clip: rect(1px 1px 1px 1px);clip: rect(1px, 1px, 1px, 1px);height: 1px;margin: -1px;overflow: hidden;padding: 0;position: absolute;width: 1px;}#sk-container-id-5 div.sk-estimator {font-family: monospace;background-color: #f0f8ff;border: 1px dotted black;border-radius: 0.25em;box-sizing: border-box;margin-bottom: 0.5em;}#sk-container-id-5 div.sk-estimator:hover {background-color: #d4ebff;}#sk-container-id-5 div.sk-parallel-item::after {content: \"\";width: 100%;border-bottom: 1px solid gray;flex-grow: 1;}#sk-container-id-5 div.sk-label:hover label.sk-toggleable__label {background-color: #d4ebff;}#sk-container-id-5 div.sk-serial::before {content: \"\";position: absolute;border-left: 1px solid gray;box-sizing: border-box;top: 0;bottom: 0;left: 50%;z-index: 0;}#sk-container-id-5 div.sk-serial {display: flex;flex-direction: column;align-items: center;background-color: white;padding-right: 0.2em;padding-left: 0.2em;position: relative;}#sk-container-id-5 div.sk-item {position: relative;z-index: 1;}#sk-container-id-5 div.sk-parallel {display: flex;align-items: stretch;justify-content: center;background-color: white;position: relative;}#sk-container-id-5 div.sk-item::before, #sk-container-id-5 div.sk-parallel-item::before {content: \"\";position: absolute;border-left: 1px solid gray;box-sizing: border-box;top: 0;bottom: 0;left: 50%;z-index: -1;}#sk-container-id-5 div.sk-parallel-item {display: flex;flex-direction: column;z-index: 1;position: relative;background-color: white;}#sk-container-id-5 div.sk-parallel-item:first-child::after {align-self: flex-end;width: 50%;}#sk-container-id-5 div.sk-parallel-item:last-child::after {align-self: flex-start;width: 50%;}#sk-container-id-5 div.sk-parallel-item:only-child::after {width: 0;}#sk-container-id-5 div.sk-dashed-wrapped {border: 1px dashed gray;margin: 0 0.4em 0.5em 0.4em;box-sizing: border-box;padding-bottom: 0.4em;background-color: white;}#sk-container-id-5 div.sk-label label {font-family: monospace;font-weight: bold;display: inline-block;line-height: 1.2em;}#sk-container-id-5 div.sk-label-container {text-align: center;}#sk-container-id-5 div.sk-container {/* jupyter's `normalize.less` sets `[hidden] { display: none; }` but bootstrap.min.css set `[hidden] { display: none !important; }` so we also need the `!important` here to be able to override the default hidden behavior on the sphinx rendered scikit-learn.org. See: https://github.com/scikit-learn/scikit-learn/issues/21755 */display: inline-block !important;position: relative;}#sk-container-id-5 div.sk-text-repr-fallback {display: none;}</style><div id=\"sk-container-id-5\" class=\"sk-top-container\"><div class=\"sk-text-repr-fallback\"><pre>LogisticRegression(C=10, max_iter=200, solver=&#x27;newton-cg&#x27;)</pre><b>In a Jupyter environment, please rerun this cell to show the HTML representation or trust the notebook. <br />On GitHub, the HTML representation is unable to render, please try loading this page with nbviewer.org.</b></div><div class=\"sk-container\" hidden><div class=\"sk-item\"><div class=\"sk-estimator sk-toggleable\"><input class=\"sk-toggleable__control sk-hidden--visually\" id=\"sk-estimator-id-5\" type=\"checkbox\" checked><label for=\"sk-estimator-id-5\" class=\"sk-toggleable__label sk-toggleable__label-arrow\">LogisticRegression</label><div class=\"sk-toggleable__content\"><pre>LogisticRegression(C=10, max_iter=200, solver=&#x27;newton-cg&#x27;)</pre></div></div></div></div></div>"
      ],
      "text/plain": [
       "LogisticRegression(C=10, max_iter=200, solver='newton-cg')"
      ]
     },
     "execution_count": 56,
     "metadata": {},
     "output_type": "execute_result"
    }
   ],
   "source": [
    "log_reg = LogisticRegression(max_iter=200, penalty='l2', solver='newton-cg', C=10)\n",
    "log_reg.fit(x_train, y_train)"
   ]
  },
  {
   "cell_type": "code",
   "execution_count": 57,
   "id": "fe7df1bd-855c-4e92-8916-60197cb60b69",
   "metadata": {},
   "outputs": [],
   "source": [
    "predict_train_log = log_reg.predict(x_train)\n",
    "predict_test_log = log_reg.predict(x_test)"
   ]
  },
  {
   "cell_type": "code",
   "execution_count": 58,
   "id": "05029845-d6bd-40b3-b147-9f59078c7199",
   "metadata": {},
   "outputs": [
    {
     "name": "stdout",
     "output_type": "stream",
     "text": [
      "0.9040868647262856\n",
      "0.7991558213155118\n",
      "[[859   6 126]\n",
      " [ 25 763 124]\n",
      " [146 144 650]]\n"
     ]
    }
   ],
   "source": [
    "print(accuracy_score(y_train, predict_train_log))\n",
    "print(accuracy_score(y_test, predict_test_log))\n",
    "print(confusion_matrix(y_test, predict_test_log))"
   ]
  },
  {
   "cell_type": "markdown",
   "id": "ad52516d-e106-43f4-8fb5-ae768c53e086",
   "metadata": {
    "tags": []
   },
   "source": [
    "### Модель многослойный пропестрон"
   ]
  },
  {
   "cell_type": "code",
   "execution_count": 639,
   "id": "dafcf7f5-f863-4e23-b8f9-e2919962a9b6",
   "metadata": {},
   "outputs": [
    {
     "data": {
      "text/html": [
       "<style>#sk-container-id-57 {color: black;background-color: white;}#sk-container-id-57 pre{padding: 0;}#sk-container-id-57 div.sk-toggleable {background-color: white;}#sk-container-id-57 label.sk-toggleable__label {cursor: pointer;display: block;width: 100%;margin-bottom: 0;padding: 0.3em;box-sizing: border-box;text-align: center;}#sk-container-id-57 label.sk-toggleable__label-arrow:before {content: \"▸\";float: left;margin-right: 0.25em;color: #696969;}#sk-container-id-57 label.sk-toggleable__label-arrow:hover:before {color: black;}#sk-container-id-57 div.sk-estimator:hover label.sk-toggleable__label-arrow:before {color: black;}#sk-container-id-57 div.sk-toggleable__content {max-height: 0;max-width: 0;overflow: hidden;text-align: left;background-color: #f0f8ff;}#sk-container-id-57 div.sk-toggleable__content pre {margin: 0.2em;color: black;border-radius: 0.25em;background-color: #f0f8ff;}#sk-container-id-57 input.sk-toggleable__control:checked~div.sk-toggleable__content {max-height: 200px;max-width: 100%;overflow: auto;}#sk-container-id-57 input.sk-toggleable__control:checked~label.sk-toggleable__label-arrow:before {content: \"▾\";}#sk-container-id-57 div.sk-estimator input.sk-toggleable__control:checked~label.sk-toggleable__label {background-color: #d4ebff;}#sk-container-id-57 div.sk-label input.sk-toggleable__control:checked~label.sk-toggleable__label {background-color: #d4ebff;}#sk-container-id-57 input.sk-hidden--visually {border: 0;clip: rect(1px 1px 1px 1px);clip: rect(1px, 1px, 1px, 1px);height: 1px;margin: -1px;overflow: hidden;padding: 0;position: absolute;width: 1px;}#sk-container-id-57 div.sk-estimator {font-family: monospace;background-color: #f0f8ff;border: 1px dotted black;border-radius: 0.25em;box-sizing: border-box;margin-bottom: 0.5em;}#sk-container-id-57 div.sk-estimator:hover {background-color: #d4ebff;}#sk-container-id-57 div.sk-parallel-item::after {content: \"\";width: 100%;border-bottom: 1px solid gray;flex-grow: 1;}#sk-container-id-57 div.sk-label:hover label.sk-toggleable__label {background-color: #d4ebff;}#sk-container-id-57 div.sk-serial::before {content: \"\";position: absolute;border-left: 1px solid gray;box-sizing: border-box;top: 0;bottom: 0;left: 50%;z-index: 0;}#sk-container-id-57 div.sk-serial {display: flex;flex-direction: column;align-items: center;background-color: white;padding-right: 0.2em;padding-left: 0.2em;position: relative;}#sk-container-id-57 div.sk-item {position: relative;z-index: 1;}#sk-container-id-57 div.sk-parallel {display: flex;align-items: stretch;justify-content: center;background-color: white;position: relative;}#sk-container-id-57 div.sk-item::before, #sk-container-id-57 div.sk-parallel-item::before {content: \"\";position: absolute;border-left: 1px solid gray;box-sizing: border-box;top: 0;bottom: 0;left: 50%;z-index: -1;}#sk-container-id-57 div.sk-parallel-item {display: flex;flex-direction: column;z-index: 1;position: relative;background-color: white;}#sk-container-id-57 div.sk-parallel-item:first-child::after {align-self: flex-end;width: 50%;}#sk-container-id-57 div.sk-parallel-item:last-child::after {align-self: flex-start;width: 50%;}#sk-container-id-57 div.sk-parallel-item:only-child::after {width: 0;}#sk-container-id-57 div.sk-dashed-wrapped {border: 1px dashed gray;margin: 0 0.4em 0.5em 0.4em;box-sizing: border-box;padding-bottom: 0.4em;background-color: white;}#sk-container-id-57 div.sk-label label {font-family: monospace;font-weight: bold;display: inline-block;line-height: 1.2em;}#sk-container-id-57 div.sk-label-container {text-align: center;}#sk-container-id-57 div.sk-container {/* jupyter's `normalize.less` sets `[hidden] { display: none; }` but bootstrap.min.css set `[hidden] { display: none !important; }` so we also need the `!important` here to be able to override the default hidden behavior on the sphinx rendered scikit-learn.org. See: https://github.com/scikit-learn/scikit-learn/issues/21755 */display: inline-block !important;position: relative;}#sk-container-id-57 div.sk-text-repr-fallback {display: none;}</style><div id=\"sk-container-id-57\" class=\"sk-top-container\"><div class=\"sk-text-repr-fallback\"><pre>MLPClassifier(hidden_layer_sizes=(100, 20), max_iter=300)</pre><b>In a Jupyter environment, please rerun this cell to show the HTML representation or trust the notebook. <br />On GitHub, the HTML representation is unable to render, please try loading this page with nbviewer.org.</b></div><div class=\"sk-container\" hidden><div class=\"sk-item\"><div class=\"sk-estimator sk-toggleable\"><input class=\"sk-toggleable__control sk-hidden--visually\" id=\"sk-estimator-id-57\" type=\"checkbox\" checked><label for=\"sk-estimator-id-57\" class=\"sk-toggleable__label sk-toggleable__label-arrow\">MLPClassifier</label><div class=\"sk-toggleable__content\"><pre>MLPClassifier(hidden_layer_sizes=(100, 20), max_iter=300)</pre></div></div></div></div></div>"
      ],
      "text/plain": [
       "MLPClassifier(hidden_layer_sizes=(100, 20), max_iter=300)"
      ]
     },
     "execution_count": 639,
     "metadata": {},
     "output_type": "execute_result"
    }
   ],
   "source": [
    "mlp = MLPClassifier(max_iter=300, hidden_layer_sizes=(100, 20))\n",
    "mlp.fit(x_train, y_train)"
   ]
  },
  {
   "cell_type": "code",
   "execution_count": 640,
   "id": "8577fb9c-d1b6-4e8a-8ed4-007865f412d5",
   "metadata": {},
   "outputs": [],
   "source": [
    "predict_train_mlp = mlp.predict(x_train)\n",
    "predict_test_mlp = mlp.predict(x_test)"
   ]
  },
  {
   "cell_type": "code",
   "execution_count": 641,
   "id": "fa69f42e-c1a4-45a8-aa04-c7f815af7974",
   "metadata": {},
   "outputs": [
    {
     "name": "stdout",
     "output_type": "stream",
     "text": [
      "0.9996983863670638\n",
      "0.7791065775589167\n",
      "[[840  13 125]\n",
      " [ 26 732 163]\n",
      " [142 159 643]]\n"
     ]
    }
   ],
   "source": [
    "print(accuracy_score(y_train, predict_train_mlp))\n",
    "print(accuracy_score(y_test, predict_test_mlp))\n",
    "print(confusion_matrix(y_test, predict_test_mlp))"
   ]
  },
  {
   "cell_type": "code",
   "execution_count": 664,
   "id": "c7e753ca-020a-47d6-bb6a-f990126a8828",
   "metadata": {},
   "outputs": [],
   "source": [
    "filename = '28_pw_model_mlp.pickle'\n",
    "\n",
    "with open(filename, 'wb') as file:\n",
    "    pickle.dump(mlp, file)"
   ]
  },
  {
   "cell_type": "markdown",
   "id": "0417c9d5-8b03-4bfb-a704-cd8423b2827b",
   "metadata": {
    "tags": []
   },
   "source": [
    "### Сравнение моделей"
   ]
  },
  {
   "cell_type": "code",
   "execution_count": 642,
   "id": "6c2ec0b6-c577-41af-9ad1-2f779593ae0a",
   "metadata": {},
   "outputs": [],
   "source": [
    "cv_score_rf = cross_val_score(rf_clf, x, y, cv=5)\n",
    "cv_score_log = cross_val_score(log_reg, x, y, cv=5)\n",
    "cv_score_mlp = cross_val_score(mlp, x, y, cv=5)"
   ]
  },
  {
   "cell_type": "code",
   "execution_count": 647,
   "id": "96958778-1e4c-4db1-9aa0-2027a2732313",
   "metadata": {},
   "outputs": [
    {
     "name": "stdout",
     "output_type": "stream",
     "text": [
      "[0.79050132 0.7878628  0.7883905  0.80211082 0.77983105]\n"
     ]
    },
    {
     "data": {
      "text/plain": [
       "(0.7897392961525495, 0.007171459553607525)"
      ]
     },
     "execution_count": 647,
     "metadata": {},
     "output_type": "execute_result"
    }
   ],
   "source": [
    "print(cv_score_rf)\n",
    "cv_score_rf.mean(), cv_score_rf.std()"
   ]
  },
  {
   "cell_type": "code",
   "execution_count": 648,
   "id": "2a19e6ab-dff7-4b4a-9a6d-09a5ddbcc47f",
   "metadata": {},
   "outputs": [
    {
     "name": "stdout",
     "output_type": "stream",
     "text": [
      "[0.80686016 0.79577836 0.80527704 0.80633245 0.80147835]\n"
     ]
    },
    {
     "data": {
      "text/plain": [
       "(0.8031452747601786, 0.004136494060167725)"
      ]
     },
     "execution_count": 648,
     "metadata": {},
     "output_type": "execute_result"
    }
   ],
   "source": [
    "print(cv_score_log)\n",
    "cv_score_log.mean(), cv_score_log.std()"
   ]
  },
  {
   "cell_type": "code",
   "execution_count": 649,
   "id": "bf597267-2ac5-47ab-b841-f3f2170beaf0",
   "metadata": {},
   "outputs": [
    {
     "name": "stdout",
     "output_type": "stream",
     "text": [
      "[0.80158311 0.79577836 0.79313984 0.79630607 0.80147835]\n"
     ]
    },
    {
     "data": {
      "text/plain": [
       "(0.7976571481111021, 0.0033399434367288403)"
      ]
     },
     "execution_count": 649,
     "metadata": {},
     "output_type": "execute_result"
    }
   ],
   "source": [
    "print(cv_score_mlp)\n",
    "cv_score_mlp.mean(), cv_score_mlp.std()"
   ]
  },
  {
   "cell_type": "markdown",
   "id": "8220e19b-26bc-49b4-b5f6-7dcaad22781f",
   "metadata": {},
   "source": [
    "По результатам сравнения выбираем модель логистической регресии"
   ]
  },
  {
   "cell_type": "code",
   "execution_count": 651,
   "id": "0758220c-5946-4763-88f4-bd607a34dd2b",
   "metadata": {},
   "outputs": [
    {
     "name": "stdout",
     "output_type": "stream",
     "text": [
      "0.9048408988086262\n",
      "0.7935279634189236\n"
     ]
    }
   ],
   "source": [
    "print(accuracy_score(y_train, predict_train_log))\n",
    "print(accuracy_score(y_test, predict_test_log))"
   ]
  },
  {
   "cell_type": "markdown",
   "id": "b33fe72f-4620-4ac5-96f3-9c24c738406f",
   "metadata": {},
   "source": [
    "Модель показывает стабильные результаты на тестовых фоладах, при этом качество модели на тестовой выборке не сильно отличается, модель не переобучилась."
   ]
  },
  {
   "cell_type": "markdown",
   "id": "c43bc40e-3850-440c-a575-b91991e409cc",
   "metadata": {
    "tags": []
   },
   "source": [
    "## Results"
   ]
  },
  {
   "cell_type": "markdown",
   "id": "2ab028d8-dd7c-4e6a-a86e-c89bda29c115",
   "metadata": {},
   "source": [
    "Все три объявленные модели имеют близкие результаты, однако, сравнив модели при помощи кросс валидации было выявлено,\n",
    "что модель  логистической регресии имеет самую высокую предсказательную способность."
   ]
  },
  {
   "cell_type": "code",
   "execution_count": 652,
   "id": "781c547f-7dfa-4d76-9490-6530129a6b19",
   "metadata": {},
   "outputs": [
    {
     "data": {
      "text/html": [
       "<style>#sk-container-id-58 {color: black;background-color: white;}#sk-container-id-58 pre{padding: 0;}#sk-container-id-58 div.sk-toggleable {background-color: white;}#sk-container-id-58 label.sk-toggleable__label {cursor: pointer;display: block;width: 100%;margin-bottom: 0;padding: 0.3em;box-sizing: border-box;text-align: center;}#sk-container-id-58 label.sk-toggleable__label-arrow:before {content: \"▸\";float: left;margin-right: 0.25em;color: #696969;}#sk-container-id-58 label.sk-toggleable__label-arrow:hover:before {color: black;}#sk-container-id-58 div.sk-estimator:hover label.sk-toggleable__label-arrow:before {color: black;}#sk-container-id-58 div.sk-toggleable__content {max-height: 0;max-width: 0;overflow: hidden;text-align: left;background-color: #f0f8ff;}#sk-container-id-58 div.sk-toggleable__content pre {margin: 0.2em;color: black;border-radius: 0.25em;background-color: #f0f8ff;}#sk-container-id-58 input.sk-toggleable__control:checked~div.sk-toggleable__content {max-height: 200px;max-width: 100%;overflow: auto;}#sk-container-id-58 input.sk-toggleable__control:checked~label.sk-toggleable__label-arrow:before {content: \"▾\";}#sk-container-id-58 div.sk-estimator input.sk-toggleable__control:checked~label.sk-toggleable__label {background-color: #d4ebff;}#sk-container-id-58 div.sk-label input.sk-toggleable__control:checked~label.sk-toggleable__label {background-color: #d4ebff;}#sk-container-id-58 input.sk-hidden--visually {border: 0;clip: rect(1px 1px 1px 1px);clip: rect(1px, 1px, 1px, 1px);height: 1px;margin: -1px;overflow: hidden;padding: 0;position: absolute;width: 1px;}#sk-container-id-58 div.sk-estimator {font-family: monospace;background-color: #f0f8ff;border: 1px dotted black;border-radius: 0.25em;box-sizing: border-box;margin-bottom: 0.5em;}#sk-container-id-58 div.sk-estimator:hover {background-color: #d4ebff;}#sk-container-id-58 div.sk-parallel-item::after {content: \"\";width: 100%;border-bottom: 1px solid gray;flex-grow: 1;}#sk-container-id-58 div.sk-label:hover label.sk-toggleable__label {background-color: #d4ebff;}#sk-container-id-58 div.sk-serial::before {content: \"\";position: absolute;border-left: 1px solid gray;box-sizing: border-box;top: 0;bottom: 0;left: 50%;z-index: 0;}#sk-container-id-58 div.sk-serial {display: flex;flex-direction: column;align-items: center;background-color: white;padding-right: 0.2em;padding-left: 0.2em;position: relative;}#sk-container-id-58 div.sk-item {position: relative;z-index: 1;}#sk-container-id-58 div.sk-parallel {display: flex;align-items: stretch;justify-content: center;background-color: white;position: relative;}#sk-container-id-58 div.sk-item::before, #sk-container-id-58 div.sk-parallel-item::before {content: \"\";position: absolute;border-left: 1px solid gray;box-sizing: border-box;top: 0;bottom: 0;left: 50%;z-index: -1;}#sk-container-id-58 div.sk-parallel-item {display: flex;flex-direction: column;z-index: 1;position: relative;background-color: white;}#sk-container-id-58 div.sk-parallel-item:first-child::after {align-self: flex-end;width: 50%;}#sk-container-id-58 div.sk-parallel-item:last-child::after {align-self: flex-start;width: 50%;}#sk-container-id-58 div.sk-parallel-item:only-child::after {width: 0;}#sk-container-id-58 div.sk-dashed-wrapped {border: 1px dashed gray;margin: 0 0.4em 0.5em 0.4em;box-sizing: border-box;padding-bottom: 0.4em;background-color: white;}#sk-container-id-58 div.sk-label label {font-family: monospace;font-weight: bold;display: inline-block;line-height: 1.2em;}#sk-container-id-58 div.sk-label-container {text-align: center;}#sk-container-id-58 div.sk-container {/* jupyter's `normalize.less` sets `[hidden] { display: none; }` but bootstrap.min.css set `[hidden] { display: none !important; }` so we also need the `!important` here to be able to override the default hidden behavior on the sphinx rendered scikit-learn.org. See: https://github.com/scikit-learn/scikit-learn/issues/21755 */display: inline-block !important;position: relative;}#sk-container-id-58 div.sk-text-repr-fallback {display: none;}</style><div id=\"sk-container-id-58\" class=\"sk-top-container\"><div class=\"sk-text-repr-fallback\"><pre>LogisticRegression(C=10, max_iter=200, solver=&#x27;newton-cg&#x27;)</pre><b>In a Jupyter environment, please rerun this cell to show the HTML representation or trust the notebook. <br />On GitHub, the HTML representation is unable to render, please try loading this page with nbviewer.org.</b></div><div class=\"sk-container\" hidden><div class=\"sk-item\"><div class=\"sk-estimator sk-toggleable\"><input class=\"sk-toggleable__control sk-hidden--visually\" id=\"sk-estimator-id-58\" type=\"checkbox\" checked><label for=\"sk-estimator-id-58\" class=\"sk-toggleable__label sk-toggleable__label-arrow\">LogisticRegression</label><div class=\"sk-toggleable__content\"><pre>LogisticRegression(C=10, max_iter=200, solver=&#x27;newton-cg&#x27;)</pre></div></div></div></div></div>"
      ],
      "text/plain": [
       "LogisticRegression(C=10, max_iter=200, solver='newton-cg')"
      ]
     },
     "execution_count": 652,
     "metadata": {},
     "output_type": "execute_result"
    }
   ],
   "source": [
    "log_reg = LogisticRegression(max_iter=200, penalty='l2', solver='newton-cg', C=10)\n",
    "log_reg.fit(x, y)"
   ]
  },
  {
   "cell_type": "code",
   "execution_count": 654,
   "id": "478cff5e-5376-4f16-aa9b-0522f6bb1ab8",
   "metadata": {},
   "outputs": [],
   "source": [
    "filename = '28_pw_model.pickle'\n",
    "\n",
    "with open(filename, 'wb') as file:\n",
    "    pickle.dump(log_reg, file)"
   ]
  }
 ],
 "metadata": {
  "kernelspec": {
   "display_name": "Python 3 (ipykernel)",
   "language": "python",
   "name": "python3"
  },
  "language_info": {
   "codemirror_mode": {
    "name": "ipython",
    "version": 3
   },
   "file_extension": ".py",
   "mimetype": "text/x-python",
   "name": "python",
   "nbconvert_exporter": "python",
   "pygments_lexer": "ipython3",
   "version": "3.10.9"
  }
 },
 "nbformat": 4,
 "nbformat_minor": 5
}
